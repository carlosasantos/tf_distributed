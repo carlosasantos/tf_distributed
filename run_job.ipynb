{
  "cells": [
    {
      "cell_type": "code",
      "source": [
        "# Import required libraries\r\n",
        "from azure.ai.ml import MLClient\r\n",
        "from azure.ai.ml import command\r\n",
        "from azure.ai.ml.entities import AmlCompute"
      ],
      "outputs": [],
      "execution_count": null,
      "metadata": {
        "gather": {
          "logged": 1682032878362
        }
      }
    },
    {
      "cell_type": "code",
      "source": [
        "from azure.identity import DefaultAzureCredential, InteractiveBrowserCredential\r\n",
        "\r\n",
        "try:\r\n",
        "    credential = DefaultAzureCredential()\r\n",
        "    # Check if given credential can get token successfully.\r\n",
        "    credential.get_token(\"https://management.azure.com/.default\")\r\n",
        "except Exception as ex:\r\n",
        "    # Fall back to InteractiveBrowserCredential in case DefaultAzureCredential not work\r\n",
        "    # This will open a browser page for\r\n",
        "    credential = InteractiveBrowserCredential()"
      ],
      "outputs": [],
      "execution_count": null,
      "metadata": {
        "jupyter": {
          "source_hidden": false,
          "outputs_hidden": false
        },
        "nteract": {
          "transient": {
            "deleting": false
          }
        },
        "gather": {
          "logged": 1682032879989
        }
      }
    },
    {
      "cell_type": "code",
      "source": [
        "try:\r\n",
        "    ml_client = MLClient.from_config(credential=credential)\r\n",
        "except Exception as ex:\r\n",
        "    # NOTE: Update following workspace information if not correctly configure before\r\n",
        "    client_config = {\r\n",
        "        \"subscription_id\": \"<SUBSCRIPTION_ID>\",\r\n",
        "        \"resource_group\": \"<RESOURCE_GROUP>\",\r\n",
        "        \"workspace_name\": \"<AML_WORKSPACE_NAME>\",\r\n",
        "    }\r\n",
        "\r\n",
        "    if client_config[\"subscription_id\"].startswith(\"<\"):\r\n",
        "        print(\r\n",
        "            \"please update your <SUBSCRIPTION_ID> <RESOURCE_GROUP> <AML_WORKSPACE_NAME> in notebook cell\"\r\n",
        "        )\r\n",
        "        raise ex\r\n",
        "    else:  # write and reload from config file\r\n",
        "        import json, os\r\n",
        "\r\n",
        "        config_path = \"../.azureml/config.json\"\r\n",
        "        os.makedirs(os.path.dirname(config_path), exist_ok=True)\r\n",
        "        with open(config_path, \"w\") as fo:\r\n",
        "            fo.write(json.dumps(client_config))\r\n",
        "        ml_client = MLClient.from_config(credential=credential, path=config_path)\r\n",
        "print(ml_client)"
      ],
      "outputs": [],
      "execution_count": null,
      "metadata": {
        "jupyter": {
          "source_hidden": false,
          "outputs_hidden": false
        },
        "nteract": {
          "transient": {
            "deleting": false
          }
        },
        "gather": {
          "logged": 1682032882794
        }
      }
    },
    {
      "cell_type": "code",
      "source": [
        "# specify aml compute name.\r\n",
        "gpu_compute_target = \"gpu-cluster\"\r\n",
        "\r\n",
        "try:\r\n",
        "    ml_client.compute.get(gpu_compute_target)\r\n",
        "except Exception:\r\n",
        "    print(\"Creating a new gpu compute target...\")\r\n",
        "    compute = AmlCompute(\r\n",
        "        name=gpu_compute_target, size=\"STANDARD_NC12\", min_instances=0, max_instances=3\r\n",
        "    )\r\n",
        "    ml_client.compute.begin_create_or_update(compute).result()"
      ],
      "outputs": [],
      "execution_count": null,
      "metadata": {
        "jupyter": {
          "source_hidden": false,
          "outputs_hidden": false
        },
        "nteract": {
          "transient": {
            "deleting": false
          }
        },
        "gather": {
          "logged": 1682037944218
        }
      }
    },
    {
      "cell_type": "code",
      "source": [
        "job = command(\r\n",
        "    code=\"./src\",  # local path where the code is stored\r\n",
        "    command=\"python train.py\",\r\n",
        "    environment=\"AzureML-tensorflow-2.7-ubuntu20.04-py38-cuda11-gpu@latest\",\r\n",
        "    compute=\"gpu-cluster\",\r\n",
        "    instance_count=2,\r\n",
        "    distribution={\r\n",
        "        \"type\": \"tensorflow\",\r\n",
        "        \"parameter_server_count\": 1,\r\n",
        "        \"worker_count\": 2,\r\n",
        "        \"added_property\": 7,\r\n",
        "    },\r\n",
        "    display_name=\"tensorflow_lstm_2workers\",\r\n",
        "    experiment_name=\"tensorflow-distributed-test\"\r\n",
        ")"
      ],
      "outputs": [],
      "execution_count": null,
      "metadata": {
        "jupyter": {
          "source_hidden": false,
          "outputs_hidden": false
        },
        "nteract": {
          "transient": {
            "deleting": false
          }
        },
        "gather": {
          "logged": 1682033511293
        }
      }
    },
    {
      "cell_type": "code",
      "source": [
        "# submit the command\r\n",
        "returned_job = ml_client.create_or_update(job)"
      ],
      "outputs": [],
      "execution_count": null,
      "metadata": {
        "jupyter": {
          "source_hidden": false,
          "outputs_hidden": false
        },
        "nteract": {
          "transient": {
            "deleting": false
          }
        },
        "gather": {
          "logged": 1682027915742
        }
      }
    }
  ],
  "metadata": {
    "kernelspec": {
      "name": "python310-sdkv2",
      "language": "python",
      "display_name": "Python 3.10 - SDK v2"
    },
    "language_info": {
      "name": "python",
      "version": "3.10.9",
      "mimetype": "text/x-python",
      "codemirror_mode": {
        "name": "ipython",
        "version": 3
      },
      "pygments_lexer": "ipython3",
      "nbconvert_exporter": "python",
      "file_extension": ".py"
    },
    "microsoft": {
      "ms_spell_check": {
        "ms_spell_check_language": "en"
      },
      "host": {
        "AzureML": {
          "notebookHasBeenCompleted": true
        }
      }
    },
    "kernel_info": {
      "name": "python310-sdkv2"
    },
    "nteract": {
      "version": "nteract-front-end@1.0.0"
    }
  },
  "nbformat": 4,
  "nbformat_minor": 2
}